{
 "cells": [
  {
   "cell_type": "code",
   "execution_count": 29,
   "id": "3d74d099-be22-4c03-99af-2f3744b6fe23",
   "metadata": {
    "tags": []
   },
   "outputs": [],
   "source": [
    "from langchain.document_loaders import TextLoader"
   ]
  },
  {
   "cell_type": "code",
   "execution_count": 30,
   "id": "35c2d817-9efb-4f73-a765-91837b40c530",
   "metadata": {
    "tags": []
   },
   "outputs": [],
   "source": [
    "loader = TextLoader(\"sample_news.txt\")"
   ]
  },
  {
   "cell_type": "code",
   "execution_count": 32,
   "id": "aaa68c04-56b7-4e31-8a38-f0681fe68994",
   "metadata": {
    "tags": []
   },
   "outputs": [
    {
     "data": {
      "text/plain": [
       "[Document(metadata={'source': 'sample_news.txt'}, page_content='1. Introduction to Supply Chains\\nA supply chain is a network of organizations, resources, and processes that facilitate the movement of goods and services from raw material suppliers to end consumers. The efficiency of supply chains determines cost-effectiveness, delivery speed, and customer satisfaction.\\n\\nTraditional supply chains were linear and heavily reliant on manual processes. However, advancements in artificial intelligence (AI), machine learning (ML), IoT, and blockchain have revolutionized modern supply chain management, leading to greater efficiency, transparency, and resilience.\\n\\n2. Evolution of Supply Chain Management\\nPre-Industrial Revolution: Supply chains were localized, relying on manual labor and basic inventory tracking.\\n20th Century: Introduction of global supply chains, mass production, and ERP (Enterprise Resource Planning) systems.\\nDigital Transformation (2000s-Present): Adoption of automation, predictive analytics, IoT-enabled tracking, and AI-driven forecasting.\\nAI & Blockchain Era (Future): Companies are leveraging AI-powered decision-making, real-time logistics tracking, and blockchain-based smart contracts.\\n\\n3. Key Components of a Modern Supply Chain\\nA well-optimized supply chain consists of multiple interconnected processes:\\n3.1. Procurement and Supplier Management\\nAI-powered supplier selection: Algorithms analyze supplier performance, pricing, and risks.\\nBlockchain for transparency: Smart contracts enforce secure, fraud-resistant transactions.\\n3.2. Inventory and Demand Forecasting\\nML-based predictive analytics: Helps companies anticipate seasonal demand fluctuations.\\nAutomated warehouse management: Uses robotic process automation (RPA) and AI for optimized storage and retrieval.\\n3.3. Logistics and Transportation\\nIoT-enabled fleet tracking: Real-time monitoring of shipments for route optimization.\\nAutonomous delivery systems: Companies like Amazon and FedEx are exploring drones and self-driving trucks.\\n3.4. Last-Mile Delivery Optimization\\nAI-driven route planning: Reduces delivery times using geospatial analysis.\\nCrowdsourced delivery models: Companies like Uber Freight leverage gig economy drivers for efficiency.\\n\\n4. AI and Machine Learning in Supply Chain Optimization\\nAI is revolutionizing supply chain operations in several ways:\\n4.1. Demand Forecasting & Inventory Management\\nDeep learning models (LSTMs, Transformers) analyze historical data for highly accurate demand predictions.\\nReinforcement learning algorithms optimize warehouse storage layouts for efficient picking.\\n4.2. Intelligent Procurement Systems\\nAI-powered supplier risk assessment ensures sourcing reliability.\\nNLP-based contract analysis automates compliance checks.\\n4.3. Logistics Optimization & Route Planning\\nDynamic route optimization algorithms reduce fuel costs and delivery delays.\\nComputer vision for cargo monitoring detects damaged goods in transit.\\n4.4. Automated Customer Service\\nAI chatbots handle order tracking inquiries, returns, and complaint resolutions.\\nSentiment analysis improves customer experience predictions.\\n\\n5. Blockchain Applications in Supply Chain\\nBlockchain enhances trust, security, and traceability in logistics and procurement:\\nSmart contracts automate payment processing when goods reach designated locations.\\nDecentralized ledgers prevent fraud and counterfeit goods.\\nEnd-to-end tracking ensures compliance with sustainability and ethical sourcing policies.\\n\\n6. Challenges in AI-Driven Supply Chains\\nWhile AI integration in supply chains presents immense opportunities, several challenges persist:\\nData Silos: Fragmented data across suppliers, warehouses, and retailers limits AI accuracy.\\nCybersecurity Risks: AI-driven systems are vulnerable to data breaches and algorithmic manipulation.\\nRegulatory Compliance: Global trade laws require strict adherence to import/export regulations.\\nHigh Implementation Costs: AI infrastructure, IoT devices, and blockchain networks require significant upfront investments.\\n\\n7. The Future of Supply Chain Technology\\nThe next decade will witness groundbreaking advancements in supply chain technologies:\\nAI-Powered Hyperautomation: Combining AI, IoT, and robotic automation for fully autonomous supply chains.\\nQuantum Computing for Logistics: Solving complex route optimization and supply chain network problems in seconds.\\nSustainable Supply Chains: Transition to carbon-neutral logistics, EV fleets, and circular economy models.\\nEdge Computing & Real-Time Analytics: Processing supply chain data closer to the source for instant decision-making.\\n8. Conclusion\\nAI-driven supply chain optimization is redefining global commerce. Companies that invest in predictive analytics, automation, and blockchain-based logistics will achieve faster, cost-effective, and resilient supply chain networks.\\n\\nThe future of supply chains is digital, decentralized, and intelligent.\\n\\nOrganizations that embrace these innovations will lead the next wave of global trade efficiency and customer satisfaction.\\n\\n')]"
      ]
     },
     "execution_count": 32,
     "metadata": {},
     "output_type": "execute_result"
    }
   ],
   "source": [
    "data = loader.load()\n",
    "loader.file_path\n",
    "data"
   ]
  },
  {
   "cell_type": "code",
   "execution_count": 33,
   "id": "c1c086f2-5872-4dd6-8f51-b466230d0869",
   "metadata": {
    "tags": []
   },
   "outputs": [],
   "source": [
    "from langchain.document_loaders.csv_loader import CSVLoader"
   ]
  },
  {
   "cell_type": "code",
   "execution_count": 34,
   "id": "28c93601-baf0-4c99-a8aa-c2fb055522db",
   "metadata": {
    "tags": []
   },
   "outputs": [],
   "source": [
    "loader = CSVLoader(\"movies.csv\", source_column = \"title\")"
   ]
  },
  {
   "cell_type": "code",
   "execution_count": 35,
   "id": "abf85844-1a8e-43ab-8bfe-1355afcae78f",
   "metadata": {
    "tags": []
   },
   "outputs": [
    {
     "data": {
      "text/plain": [
       "9"
      ]
     },
     "execution_count": 35,
     "metadata": {},
     "output_type": "execute_result"
    }
   ],
   "source": [
    "data = loader.load()\n",
    "len(data)\n",
    "#data"
   ]
  },
  {
   "cell_type": "code",
   "execution_count": 36,
   "id": "bae648a5-8810-41ec-b673-243528452af2",
   "metadata": {
    "tags": []
   },
   "outputs": [
    {
     "name": "stdout",
     "output_type": "stream",
     "text": [
      "Requirement already satisfied: unstructured in /opt/anaconda3/lib/python3.12/site-packages (0.9.2)\n",
      "Requirement already satisfied: libmagic in /opt/anaconda3/lib/python3.12/site-packages (1.0)\n",
      "Requirement already satisfied: chardet in /opt/anaconda3/lib/python3.12/site-packages (from unstructured) (4.0.0)\n",
      "Requirement already satisfied: filetype in /opt/anaconda3/lib/python3.12/site-packages (from unstructured) (1.2.0)\n",
      "Requirement already satisfied: python-magic in /opt/anaconda3/lib/python3.12/site-packages (from unstructured) (0.4.27)\n",
      "Requirement already satisfied: lxml in /opt/anaconda3/lib/python3.12/site-packages (from unstructured) (5.2.1)\n",
      "Requirement already satisfied: nltk in /opt/anaconda3/lib/python3.12/site-packages (from unstructured) (3.9.1)\n",
      "Requirement already satisfied: tabulate in /opt/anaconda3/lib/python3.12/site-packages (from unstructured) (0.9.0)\n",
      "Requirement already satisfied: requests in /opt/anaconda3/lib/python3.12/site-packages (from unstructured) (2.32.3)\n",
      "Requirement already satisfied: click in /opt/anaconda3/lib/python3.12/site-packages (from nltk->unstructured) (8.1.7)\n",
      "Requirement already satisfied: joblib in /opt/anaconda3/lib/python3.12/site-packages (from nltk->unstructured) (1.4.2)\n",
      "Requirement already satisfied: regex>=2021.8.3 in /opt/anaconda3/lib/python3.12/site-packages (from nltk->unstructured) (2024.11.6)\n",
      "Requirement already satisfied: tqdm in /opt/anaconda3/lib/python3.12/site-packages (from nltk->unstructured) (4.66.5)\n",
      "Requirement already satisfied: charset-normalizer<4,>=2 in /opt/anaconda3/lib/python3.12/site-packages (from requests->unstructured) (3.4.1)\n",
      "Requirement already satisfied: idna<4,>=2.5 in /opt/anaconda3/lib/python3.12/site-packages (from requests->unstructured) (3.10)\n",
      "Requirement already satisfied: urllib3<3,>=1.21.1 in /opt/anaconda3/lib/python3.12/site-packages (from requests->unstructured) (2.3.0)\n",
      "Requirement already satisfied: certifi>=2017.4.17 in /opt/anaconda3/lib/python3.12/site-packages (from requests->unstructured) (2025.1.31)\n",
      "Note: you may need to restart the kernel to use updated packages.\n"
     ]
    }
   ],
   "source": [
    "pip install unstructured libmagic\n"
   ]
  },
  {
   "cell_type": "code",
   "execution_count": 37,
   "id": "21a5bd18-0e89-477f-af13-1306ecac61bf",
   "metadata": {
    "tags": []
   },
   "outputs": [],
   "source": [
    "from langchain.document_loaders import UnstructuredURLLoader"
   ]
  },
  {
   "cell_type": "code",
   "execution_count": 135,
   "id": "b846d19d-8dc5-4b0a-add5-0eef179ee000",
   "metadata": {
    "tags": []
   },
   "outputs": [],
   "source": [
    "loader = UnstructuredURLLoader(\n",
    "    urls = [\n",
    "        \"https://gjia.georgetown.edu/2024/02/05/the-role-of-ai-in-developing-resilient-supply-chains/\",\n",
    "        \"https://www.supplychaindive.com/news/manifest-2025-takeaways-ai-technology/741029/\",\n",
    "        \"https://www.forbes.com/councils/forbesbusinesscouncil/2023/07/11/supply-chain-management-in-a-post-covid-world/\",\n",
    "    ]\n",
    ")"
   ]
  },
  {
   "cell_type": "code",
   "execution_count": 136,
   "id": "9c5da8b7-b064-4664-8c15-b1e29bbe29a3",
   "metadata": {
    "tags": []
   },
   "outputs": [
    {
     "data": {
      "text/plain": [
       "3"
      ]
     },
     "execution_count": 136,
     "metadata": {},
     "output_type": "execute_result"
    }
   ],
   "source": [
    "data = loader.load()\n",
    "len(data)"
   ]
  },
  {
   "cell_type": "code",
   "execution_count": 137,
   "id": "652c7235-4e5a-4bf7-878b-f65629990156",
   "metadata": {
    "tags": []
   },
   "outputs": [
    {
     "data": {
      "text/plain": [
       "{'source': 'https://gjia.georgetown.edu/2024/02/05/the-role-of-ai-in-developing-resilient-supply-chains/'}"
      ]
     },
     "execution_count": 137,
     "metadata": {},
     "output_type": "execute_result"
    }
   ],
   "source": [
    "data[0].metadata"
   ]
  },
  {
   "cell_type": "code",
   "execution_count": 139,
   "id": "8a66873f-ae29-4837-a2c3-8d76f0461eb6",
   "metadata": {
    "tags": []
   },
   "outputs": [
    {
     "data": {
      "text/plain": [
       "'Category:\\xa0Business & Economics\\n\\nTitle: The Role of AI in Developing Resilient Supply Chains\\n\\nAuthor:'"
      ]
     },
     "execution_count": 139,
     "metadata": {},
     "output_type": "execute_result"
    }
   ],
   "source": [
    "data[0].page_content[0:100]"
   ]
  },
  {
   "cell_type": "code",
   "execution_count": 113,
   "id": "2ae0991d-7562-4d00-bc6d-475538a582a1",
   "metadata": {
    "tags": []
   },
   "outputs": [],
   "source": [
    "text = \"\"\"Interstellar is a 2014 epic science fiction film co-written, directed, and produced by Christopher Nolan. \n",
    "It stars Matthew McConaughey, Anne Hathaway, Jessica Chastain, Bill Irwin, Ellen Burstyn, Matt Damon, and Michael Caine. \n",
    "Set in a dystopian future where humanity is embroiled in a catastrophic blight and famine, the film follows a group of astronauts who travel through a wormhole near Saturn in search of a new home for humankind.\n",
    "\n",
    "Brothers Christopher and Jonathan Nolan wrote the screenplay, which had its origins in a script Jonathan developed in 2007 and was originally set to be directed by Steven Spielberg. \n",
    "Kip Thorne, a Caltech theoretical physicist and 2017 Nobel laureate in Physics,[4] was an executive producer, acted as a scientific consultant, and wrote a tie-in book, The Science of Interstellar. \n",
    "Cinematographer Hoyte van Hoytema shot it on 35 mm movie film in the Panavision anamorphic format and IMAX 70 mm. Principal photography began in late 2013 and took place in Alberta, Iceland, and Los Angeles. \n",
    "Interstellar uses extensive practical and miniature effects, and the company Double Negative created additional digital effects.\n",
    "\n",
    "Interstellar premiered in Los Angeles on October 26, 2014. In the United States, it was first released on film stock, expanding to venues using digital projectors. The film received generally positive reviews from critics and grossed over $677 million worldwide ($715 million after subsequent re-releases), making it the tenth-highest-grossing film of 2014. \n",
    "It has been praised by astronomers for its scientific accuracy and portrayal of theoretical astrophysics.[5][6][7] Interstellar was nominated for five awards at the 87th Academy Awards, winning Best Visual Effects, and received numerous other accolades.\"\"\""
   ]
  },
  {
   "cell_type": "code",
   "execution_count": 43,
   "id": "4130bdf7-396d-49ae-99eb-7d3e1a0f4cc5",
   "metadata": {
    "tags": []
   },
   "outputs": [
    {
     "data": {
      "text/plain": [
       "'Interstellar is a 2014 epic science fiction film co-written, directed, and produced by Christopher Nolan. \\nIt stars Matthew McConaughey, Anne Hathaway, Jessica Chastain, Bill Irwin, Ellen Burstyn, Mat'"
      ]
     },
     "execution_count": 43,
     "metadata": {},
     "output_type": "execute_result"
    }
   ],
   "source": [
    "text[:200]"
   ]
  },
  {
   "cell_type": "code",
   "execution_count": 44,
   "id": "18e7e95d-4604-4926-9060-bebd5c977af2",
   "metadata": {
    "tags": []
   },
   "outputs": [
    {
     "data": {
      "text/plain": [
       "264"
      ]
     },
     "execution_count": 44,
     "metadata": {},
     "output_type": "execute_result"
    }
   ],
   "source": [
    "words = text.split(\" \")\n",
    "len(words)"
   ]
  },
  {
   "cell_type": "code",
   "execution_count": 45,
   "id": "04a77526-309a-4506-b33e-718d7160ace8",
   "metadata": {
    "tags": []
   },
   "outputs": [],
   "source": [
    "chunks = []\n",
    "\n",
    "s = \"\"\n",
    "for word in words:\n",
    "    s += word + \" \"\n",
    "    if len(s)>200:\n",
    "        chunks.append(s)\n",
    "        s = \"\"\n",
    "        \n",
    "chunks.append(s)"
   ]
  },
  {
   "cell_type": "code",
   "execution_count": 46,
   "id": "4e9091e6-b03f-4545-9176-97a4085faf56",
   "metadata": {
    "tags": []
   },
   "outputs": [
    {
     "data": {
      "text/plain": [
       "['Interstellar is a 2014 epic science fiction film co-written, directed, and produced by Christopher Nolan. \\nIt stars Matthew McConaughey, Anne Hathaway, Jessica Chastain, Bill Irwin, Ellen Burstyn, Matt ',\n",
       " 'Damon, and Michael Caine. \\nSet in a dystopian future where humanity is embroiled in a catastrophic blight and famine, the film follows a group of astronauts who travel through a wormhole near Saturn in ']"
      ]
     },
     "execution_count": 46,
     "metadata": {},
     "output_type": "execute_result"
    }
   ],
   "source": [
    "chunks[:2]"
   ]
  },
  {
   "cell_type": "code",
   "execution_count": 47,
   "id": "47d391ea-7944-41f0-9d1f-c28f0587765f",
   "metadata": {
    "tags": []
   },
   "outputs": [
    {
     "name": "stderr",
     "output_type": "stream",
     "text": [
      "Created a chunk of size 210, which is longer than the specified 200\n",
      "Created a chunk of size 208, which is longer than the specified 200\n",
      "Created a chunk of size 358, which is longer than the specified 200\n"
     ]
    },
    {
     "data": {
      "text/plain": [
       "9"
      ]
     },
     "execution_count": 47,
     "metadata": {},
     "output_type": "execute_result"
    }
   ],
   "source": [
    "from langchain.text_splitter import CharacterTextSplitter\n",
    "\n",
    "splitter = CharacterTextSplitter(\n",
    "    separator = \"\\n\",\n",
    "    chunk_size = 200,\n",
    "    chunk_overlap = 0\n",
    ")\n",
    "\n",
    "chunks = splitter.split_text(text)\n",
    "len(chunks)"
   ]
  },
  {
   "cell_type": "code",
   "execution_count": 48,
   "id": "dea00ad8-0340-4444-a219-49297b1480c7",
   "metadata": {
    "tags": []
   },
   "outputs": [
    {
     "name": "stdout",
     "output_type": "stream",
     "text": [
      "105\n",
      "120\n",
      "210\n",
      "181\n",
      "197\n",
      "207\n",
      "128\n",
      "357\n",
      "253\n"
     ]
    }
   ],
   "source": [
    "for chunk in chunks:\n",
    "    print(len(chunk))"
   ]
  },
  {
   "cell_type": "code",
   "execution_count": 49,
   "id": "08287201-b265-4b61-ae3b-b8fdc0aa90ce",
   "metadata": {
    "tags": []
   },
   "outputs": [
    {
     "data": {
      "text/plain": [
       "['Interstellar is a 2014 epic science fiction film co-written, directed, and produced by Christopher Nolan.',\n",
       " 'It stars Matthew McConaughey, Anne Hathaway, Jessica Chastain, Bill Irwin, Ellen Burstyn, Matt Damon, and Michael Caine.',\n",
       " 'Set in a dystopian future where humanity is embroiled in a catastrophic blight and famine, the film follows a group of astronauts who travel through a wormhole near Saturn in search of a new home for humankind.',\n",
       " 'Brothers Christopher and Jonathan Nolan wrote the screenplay, which had its origins in a script Jonathan developed in 2007 and was originally set to be directed by Steven Spielberg.',\n",
       " 'Kip Thorne, a Caltech theoretical physicist and 2017 Nobel laureate in Physics,[4] was an executive producer, acted as a scientific consultant, and wrote a tie-in book, The Science of Interstellar.',\n",
       " 'Cinematographer Hoyte van Hoytema shot it on 35 mm movie film in the Panavision anamorphic format and IMAX 70 mm. Principal photography began in late 2013 and took place in Alberta, Iceland, and Los Angeles.',\n",
       " 'Interstellar uses extensive practical and miniature effects, and the company Double Negative created additional digital effects.',\n",
       " 'Interstellar premiered in Los Angeles on October 26, 2014. In the United States, it was first released on film stock, expanding to venues using digital projectors. The film received generally positive reviews from critics and grossed over $677 million worldwide ($715 million after subsequent re-releases), making it the tenth-highest-grossing film of 2014.',\n",
       " 'It has been praised by astronomers for its scientific accuracy and portrayal of theoretical astrophysics.[5][6][7] Interstellar was nominated for five awards at the 87th Academy Awards, winning Best Visual Effects, and received numerous other accolades.']"
      ]
     },
     "execution_count": 49,
     "metadata": {},
     "output_type": "execute_result"
    }
   ],
   "source": [
    "chunks"
   ]
  },
  {
   "cell_type": "code",
   "execution_count": 50,
   "id": "6061a061-220a-4bb8-9903-acfdfc5997e4",
   "metadata": {
    "tags": []
   },
   "outputs": [],
   "source": [
    "from langchain.text_splitter import RecursiveCharacterTextSplitter\n",
    "\n",
    "r_splitter = RecursiveCharacterTextSplitter(\n",
    "     separators = [\"\\n\\n\", \"\\n\", \" \"],  # List of separators based on requirement (defaults to [\"\\n\\n\", \"\\n\", \" \"])\n",
    "    chunk_size = 200,  # size of each chunk created\n",
    "    chunk_overlap  = 0,  # size of  overlap between chunks in order to maintain the context\n",
    "    length_function = len  # Function to calculate size, currently we are using \"len\" which denotes length of string however you can pass any token counter)\n",
    ")"
   ]
  },
  {
   "cell_type": "code",
   "execution_count": 51,
   "id": "0eced316-f0c3-4f8a-9b4f-f823418987c0",
   "metadata": {
    "tags": []
   },
   "outputs": [
    {
     "name": "stdout",
     "output_type": "stream",
     "text": [
      "105\n",
      "120\n",
      "199\n",
      "10\n",
      "181\n",
      "197\n",
      "198\n",
      "8\n",
      "128\n",
      "191\n",
      "165\n",
      "198\n",
      "54\n"
     ]
    }
   ],
   "source": [
    "chunks = r_splitter.split_text(text)\n",
    "len(chunks)\n",
    "for chunk in chunks:\n",
    "    print(len(chunk))"
   ]
  },
  {
   "cell_type": "code",
   "execution_count": 52,
   "id": "b7622a61-e0bf-448c-b3c4-b984b1f20904",
   "metadata": {
    "tags": []
   },
   "outputs": [
    {
     "name": "stdout",
     "output_type": "stream",
     "text": [
      "439\n",
      "719\n",
      "612\n"
     ]
    }
   ],
   "source": [
    "chunks = text.split(\"\\n\\n\")\n",
    "for chunk in chunks:\n",
    "    print(len(chunk))"
   ]
  },
  {
   "cell_type": "code",
   "execution_count": 24,
   "id": "46d9c631-f93c-4785-a4d8-b908e2d6cc89",
   "metadata": {
    "tags": []
   },
   "outputs": [
    {
     "data": {
      "text/plain": [
       "'Interstellar is a 2014 epic science fiction film co-written, directed, and produced by Christopher Nolan. \\nIt stars Matthew McConaughey, Anne Hathaway, Jessica Chastain, Bill Irwin, Ellen Burstyn, Matt Damon, and Michael Caine. \\nSet in a dystopian future where humanity is embroiled in a catastrophic blight and famine, the film follows a group of astronauts who travel through a wormhole near Saturn in search of a new home for humankind.'"
      ]
     },
     "execution_count": 24,
     "metadata": {},
     "output_type": "execute_result"
    }
   ],
   "source": [
    "chunks[0]"
   ]
  },
  {
   "cell_type": "code",
   "execution_count": 25,
   "id": "d51ef617-2cdc-4807-aa7f-a571430c735e",
   "metadata": {
    "tags": []
   },
   "outputs": [
    {
     "data": {
      "text/plain": [
       "439"
      ]
     },
     "execution_count": 25,
     "metadata": {},
     "output_type": "execute_result"
    }
   ],
   "source": [
    "first_split = text.split(\"\\n\\n\")[0]\n",
    "len(first_split)"
   ]
  },
  {
   "cell_type": "code",
   "execution_count": 26,
   "id": "bae9ea11-cdb9-4d36-a929-21137ce9c105",
   "metadata": {
    "tags": []
   },
   "outputs": [
    {
     "data": {
      "text/plain": [
       "3"
      ]
     },
     "execution_count": 26,
     "metadata": {},
     "output_type": "execute_result"
    }
   ],
   "source": [
    "second_split = first_split.split(\"\\n\")\n",
    "len(second_split)"
   ]
  },
  {
   "cell_type": "code",
   "execution_count": 27,
   "id": "f8201356-6874-41c8-b58a-1b729a781645",
   "metadata": {
    "tags": []
   },
   "outputs": [
    {
     "name": "stdout",
     "output_type": "stream",
     "text": [
      "106\n",
      "121\n",
      "210\n"
     ]
    }
   ],
   "source": [
    "for split in second_split:\n",
    "    print(len(split))"
   ]
  },
  {
   "cell_type": "code",
   "execution_count": 28,
   "id": "812b3368-c143-41eb-b87f-aad5a3ef5bac",
   "metadata": {
    "tags": []
   },
   "outputs": [
    {
     "data": {
      "text/plain": [
       "'Set in a dystopian future where humanity is embroiled in a catastrophic blight and famine, the film follows a group of astronauts who travel through a wormhole near Saturn in search of a new home for humankind.'"
      ]
     },
     "execution_count": 28,
     "metadata": {},
     "output_type": "execute_result"
    }
   ],
   "source": [
    "second_split[2]"
   ]
  },
  {
   "cell_type": "code",
   "execution_count": null,
   "id": "566acea0-7f02-4743-b868-068de791dc03",
   "metadata": {},
   "outputs": [],
   "source": []
  }
 ],
 "metadata": {
  "kernelspec": {
   "display_name": "Python (Conda Base)",
   "language": "python",
   "name": "base"
  },
  "language_info": {
   "codemirror_mode": {
    "name": "ipython",
    "version": 3
   },
   "file_extension": ".py",
   "mimetype": "text/x-python",
   "name": "python",
   "nbconvert_exporter": "python",
   "pygments_lexer": "ipython3",
   "version": "3.12.2"
  }
 },
 "nbformat": 4,
 "nbformat_minor": 5
}
